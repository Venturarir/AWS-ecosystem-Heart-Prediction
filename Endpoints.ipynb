{
 "cells": [
  {
   "cell_type": "markdown",
   "metadata": {},
   "source": [
    "# Creation of a reusable Lambda function to create endpoints and delete them after to save money"
   ]
  },
  {
   "cell_type": "markdown",
   "metadata": {},
   "source": [
    "The following function will take model name and endpoint configuration as input and use them to create a SageMaker endpoint."
   ]
  },
  {
   "cell_type": "code",
   "execution_count": null,
   "metadata": {},
   "outputs": [],
   "source": [
    "import boto3\n",
    "\n",
    "def lambda_handler(event, context):\n",
    "    client = boto3.client('sagemaker')\n",
    "    model_name = event.get('model_name')  # Model name passed in through event\n",
    "    endpoint_config_name = event.get('endpoint_config_name')  # Endpoint config name\n",
    "    endpoint_name = event.get('endpoint_name')  # Endpoint name to create or update\n",
    "    \n",
    "    # Create or update the endpoint\n",
    "    try:\n",
    "        # Check if the endpoint already exists\n",
    "        response = client.describe_endpoint(EndpointName=endpoint_name)\n",
    "        # If the endpoint exists, update it\n",
    "        client.update_endpoint(EndpointName=endpoint_name, EndpointConfigName=endpoint_config_name)\n",
    "        return f\"Endpoint {endpoint_name} updated successfully.\"\n",
    "    except client.exceptions.ResourceNotFoundException:\n",
    "        # If the endpoint does not exist, create it\n",
    "        client.create_endpoint(\n",
    "            EndpointName=endpoint_name,\n",
    "            EndpointConfigName=endpoint_config_name\n",
    "        )\n",
    "        return f\"Endpoint {endpoint_name} created successfully.\"\n"
   ]
  },
  {
   "cell_type": "markdown",
   "metadata": {},
   "source": [
    "This function will take the name of an existing SageMaker endpoint as input and delete it."
   ]
  },
  {
   "cell_type": "code",
   "execution_count": null,
   "metadata": {},
   "outputs": [],
   "source": [
    "import boto3\n",
    "\n",
    "def lambda_handler(event, context):\n",
    "    client = boto3.client('sagemaker')\n",
    "    endpoint_name = event.get('endpoint_name')  # Endpoint name passed in through event\n",
    "    \n",
    "    # Delete the endpoint\n",
    "    try:\n",
    "        client.delete_endpoint(EndpointName=endpoint_name)\n",
    "        return f\"Successfully deleted SageMaker endpoint: {endpoint_name}\"\n",
    "    except Exception as e:\n",
    "        print(f\"Error deleting endpoint {endpoint_name}: {e}\")\n",
    "        raise e\n"
   ]
  }
 ],
 "metadata": {
  "language_info": {
   "name": "python"
  }
 },
 "nbformat": 4,
 "nbformat_minor": 2
}
